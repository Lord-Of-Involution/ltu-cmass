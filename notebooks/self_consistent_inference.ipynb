{
 "cells": [
  {
   "cell_type": "markdown",
   "metadata": {},
   "source": [
    "### Imports"
   ]
  },
  {
   "cell_type": "code",
   "metadata": {},
   "source": [
    "%load_ext autoreload\n",
    "%autoreload 2\n",
    "\n",
    "import os\n",
    "os.environ['OPENBLAS_NUM_THREADS'] = '16'  \n",
    "from os.path import join\n",
    "import numpy as np\n",
    "from tqdm import tqdm\n",
    "\n",
    "import matplotlib as mpl\n",
    "import matplotlib.pyplot as plt\n",
    "\n",
    "from omegaconf import OmegaConf\n",
    "import h5py"
   ],
   "outputs": [],
   "execution_count": null
  },
  {
   "cell_type": "markdown",
   "metadata": {},
   "source": [
    "### Load training and test data"
   ]
  },
  {
   "cell_type": "code",
   "metadata": {},
   "source": [
    "def get_cosmo(source_path):\n",
    "    cfg = OmegaConf.load(join(source_path, 'config.yaml'))\n",
    "    return np.array(cfg.nbody.cosmo)\n",
    "\n",
    "def get_halo_Pk(source_path):\n",
    "    diag_file = join(source_path, 'diag', 'halos.h5')\n",
    "    if not os.path.exists(diag_file):\n",
    "        return None, None, None\n",
    "    with h5py.File(diag_file, 'r') as f:\n",
    "        a = list(f.keys())[-1]\n",
    "        k = f[a]['Pk_k'][:]\n",
    "        Pk = f[a]['Pk'][:]\n",
    "    cosmo = get_cosmo(source_path)\n",
    "    return k, Pk, cosmo"
   ],
   "outputs": [],
   "execution_count": null
  },
  {
   "cell_type": "code",
   "metadata": {},
   "source": [
    "# Load pre-processed data\n",
    "suite = 'quijote'\n",
    "sim = 'nbody'\n",
    "L, N = 1000, 128\n",
    "\n",
    "from cmass.utils import get_source_path\n",
    "\n",
    "suite_path = get_source_path(wdir, suite, sim, L, N, 0)[:-2]\n",
    "\n",
    "ktrain, Pktrain, cosmotrain = [], [], []\n",
    "#for lhid in tqdm(os.listdir(suite_path)):\n",
    "for lhid in tqdm(['0', '1', '2', '3']):\n",
    "    k, Pk, cosmo = get_halo_Pk(join(suite_path, lhid))\n",
    "    ktrain.append(k)\n",
    "    Pktrain.append(Pk)\n",
    "    cosmotrain.append(cosmo)\n",
    "\n",
    "ktrain, Pktrain, cosmotrain = map(lambda x: [i for i in x if i is not None], [ktrain, Pktrain, cosmotrain])\n",
    "ktrain, Pktrain, cosmotrain = map(np.stack, [ktrain, Pktrain, cosmotrain])\n",
    "print(ktrain.shape, Pktrain.shape, cosmotrain.shape)\n",
    "\n",
    "# Split into training and testing\n",
    "# FIXME: Change testing set to be a subset of the total data\n",
    "ktest, Pktest, cosmotest = map(lambda x: [i for i in x if i is not None], [ktrain, Pktrain, cosmotrain])\n",
    "ktest, Pktest, cosmotest = map(np.stack, [ktest, Pktest, cosmotest])\n",
    "print(ktest.shape, Pktest.shape, cosmotest.shape)"
   ],
   "outputs": [],
   "execution_count": null
  },
  {
   "cell_type": "code",
   "metadata": {},
   "source": [
    "l = 0\n",
    "\n",
    "f, ax = plt.subplots()\n",
    "cmap = mpl.cm.get_cmap('viridis')\n",
    "Om = cosmotrain[:,0]\n",
    "for k, Pk, cosmo in zip(ktrain, Pktrain[...,0], Om):\n",
    "    omnorm = (Om-Om.min())/(Om.max()-Om.min())\n",
    "    ax.loglog(k, Pk, lw=1, alpha=0.1)\n",
    "ax.loglog(ktest[l], Pktest[l,...,0], 'k')"
   ],
   "outputs": [],
   "execution_count": null
  },
  {
   "cell_type": "markdown",
   "metadata": {},
   "source": [
    "### Train"
   ]
  },
  {
   "cell_type": "code",
   "metadata": {},
   "source": [
    "import ili\n",
    "from ili.dataloaders import NumpyLoader\n",
    "from ili.inference import InferenceRunner\n",
    "from ili.validation.metrics import PosteriorCoverage, PlotSinglePosterior\n",
    "from ili.embedding import FCN\n",
    "device='cpu'\n",
    "\n",
    "def run_inference(x, theta):\n",
    "    loader = NumpyLoader(x=x, theta=theta)\n",
    "\n",
    "    # define a prior\n",
    "    prior = ili.utils.Uniform(\n",
    "        low=theta.min(axis=0),\n",
    "        high=theta.max(axis=0),\n",
    "        device=device)\n",
    "\n",
    "    embedding = FCN(n_hidden=[64, 32, 16], act_fn='ReLU')\n",
    "\n",
    "    # instantiate your neural networks to be used as an ensemble\n",
    "    nets = [\n",
    "        ili.utils.load_nde_lampe(\n",
    "            model='maf', hidden_features=50, num_transforms=5,\n",
    "            embedding_net=embedding),\n",
    "    ]\n",
    "\n",
    "    # define training arguments\n",
    "    train_args = {\n",
    "        'training_batch_size': 32,\n",
    "        'learning_rate': 1e-4\n",
    "    }\n",
    "\n",
    "    # initialize the trainer\n",
    "    runner = InferenceRunner.load(\n",
    "        backend='lampe',\n",
    "        engine='NPE',\n",
    "        prior=prior,\n",
    "        nets=nets,\n",
    "        device=device,\n",
    "        train_args=train_args\n",
    "    )\n",
    "\n",
    "    # train the model\n",
    "    posterior_ensemble, summaries = runner(loader=loader)\n",
    "\n",
    "    return posterior_ensemble, summaries"
   ],
   "outputs": [],
   "execution_count": null
  },
  {
   "cell_type": "code",
   "metadata": {},
   "source": [
    "# train at different resolutions\n",
    "kmaxs = [0.2] # [0.1, 0.2, 0.4, 0.6]\n",
    "\n",
    "# impute with mean\n",
    "def impute(arr):\n",
    "    # Compute the mean of each row, ignoring nan values\n",
    "    col_mean = np.nanmean(arr, axis=1)\n",
    "    \n",
    "    # Find the indices where values are nan\n",
    "    inds = np.where(np.isnan(arr))\n",
    "    \n",
    "    # Replace nan values with the mean of the respective column\n",
    "    arr[inds] = np.take(col_mean, inds[0])\n",
    "    return arr"
   ],
   "outputs": [],
   "execution_count": null
  },
  {
   "cell_type": "code",
   "metadata": {},
   "source": [
    "posteriors, summaries = {}, {}\n",
    "for kmax in kmaxs:\n",
    "    print(f'Training for kmax={kmax}')\n",
    "\n",
    "    # focus on the monopole\n",
    "    x = Pktrain[:, :, 0]\n",
    "\n",
    "    # cut on k\n",
    "    mask = ktrain[0] < kmax\n",
    "    x = x[:, mask]\n",
    "    theta = cosmotrain\n",
    "\n",
    "    # log\n",
    "    x = np.log10(x)\n",
    "\n",
    "    # impute\n",
    "    x = impute(x)\n",
    "\n",
    "    # train\n",
    "    _p, _s = run_inference(x, theta) # FIXME: figure out why it breaks here\n",
    "    posteriors[kmax] = _p\n",
    "    summaries[kmax] = _s\n"
   ],
   "outputs": [],
   "execution_count": null
  },
  {
   "cell_type": "markdown",
   "metadata": {},
   "source": [
    "### Plot"
   ]
  },
  {
   "cell_type": "code",
   "metadata": {},
   "source": [
    "# metric = PlotSinglePosterior(\n",
    "#     num_samples=1000, sample_method='direct',\n",
    "#     labels=['Omega_m', 'Omega_b', 'h', 'n_s', 'sigma8']\n",
    "# )\n",
    "# fig = None\n",
    "# for i, kmax in enumerate(kmaxs):\n",
    "#     print(kmax)\n",
    "#     xobs = Pktest[:, :, 0]\n",
    "#     mask = ktest[0] < kmax\n",
    "#     xobs = xobs[:, mask]\n",
    "#     xobs = np.log10(xobs)\n",
    "#     xobs = impute(xobs)\n",
    "#     _p = posteriors[kmax]\n",
    "#     fig = metric(\n",
    "#         posterior=_p,\n",
    "#         x_obs = xobs[0], # , theta_fid = thetaobs[0],\n",
    "#         grid=fig,\n",
    "#         name=f'kmax={kmax}'\n",
    "#     )"
   ],
   "outputs": [],
   "execution_count": null
  },
  {
   "cell_type": "code",
   "metadata": {},
   "source": [
    "kmax = 0.2\n",
    "xobs = Pktest[:, :, 0]\n",
    "mask = ktest[0] < kmax\n",
    "xobs = xobs[:, mask]\n",
    "xobs = np.log10(xobs)\n",
    "xobs = impute(xobs)\n",
    "xobs[0]"
   ],
   "outputs": [],
   "execution_count": null
  },
  {
   "cell_type": "code",
   "metadata": {},
   "source": [
    "metric = PlotSinglePosterior(\n",
    "    num_samples=1000, sample_method='direct',\n",
    "    labels=['Omega_m', 'Omega_b', 'h', 'n_s', 'sigma8']\n",
    ")\n",
    "fig = metric(\n",
    "    posterior=_p,\n",
    "    x_obs = xobs[0], theta_fid = cosmotest[0],\n",
    "    grid=None,\n",
    "    name=f'kmax={kmax}'\n",
    ")"
   ],
   "outputs": [],
   "execution_count": null
  },
  {
   "cell_type": "code",
   "metadata": {},
   "source": [
    "metric = PosteriorCoverage(\n",
    "    num_samples=1000, sample_method='direct', \n",
    "    labels=['Omega_m', 'Omega_b', 'h', 'n_s', 'sigma8'],\n",
    "    plot_list = [\"coverage\", \"histogram\", \"predictions\", \"tarp\", \"logprob\"],\n",
    "    out_dir=None\n",
    ")\n",
    "metric(posterior=_p, x=xobs, theta=cosmotest);"
   ],
   "outputs": [],
   "execution_count": null
  }
 ],
 "metadata": {
  "kernelspec": {
   "display_name": "Python 3 (ipykernel)",
   "language": "python",
   "name": "python3"
  },
  "language_info": {
   "codemirror_mode": {
    "name": "ipython",
    "version": 3
   },
   "file_extension": ".py",
   "mimetype": "text/x-python",
   "name": "python",
   "nbconvert_exporter": "python",
   "pygments_lexer": "ipython3",
   "version": "3.10.13"
  }
 },
 "nbformat": 4,
 "nbformat_minor": 2
}
